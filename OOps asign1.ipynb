{
 "cells": [
  {
   "cell_type": "code",
   "execution_count": null,
   "id": "ecfe1f02-c48c-463b-ba49-ca421a280f6e",
   "metadata": {},
   "outputs": [],
   "source": [
    "#Explain Class and Object with respect to Object-Oriented Programming. Give a suitable example."
   ]
  },
  {
   "cell_type": "code",
   "execution_count": 2,
   "id": "5a28eb35-2c55-47d4-9b77-f2fc22439a8b",
   "metadata": {},
   "outputs": [],
   "source": [
    "#A class is a blueprint for creating objects. It defines the object's properties (attributes) and behaviors (methods). An object is an instance of a class. \n",
    "#It has its own unique set of values for its properties and can perform the actions defined by its methods."
   ]
  },
  {
   "cell_type": "code",
   "execution_count": null,
   "id": "f2850801-4afd-49c2-9506-fe9d9c407aa4",
   "metadata": {},
   "outputs": [],
   "source": [
    "For example, a class called Car might have properties such as color, make, and model\n",
    "An object represents a specific occurrence or realization of the class, possessing its own unique data and state.\n",
    "It can access the attributes and behaviors defined in the class and interact with other objects in the system"
   ]
  },
  {
   "cell_type": "code",
   "execution_count": 13,
   "id": "410dd07e-8d14-42b3-baec-610ba8244a8b",
   "metadata": {},
   "outputs": [],
   "source": [
    "# Creating car objects\n",
    "class Car:\n",
    "    def __init__(self, colour, make, model, year):\n",
    "        self.colour = colour\n",
    "        self.make = make\n",
    "        self.model = model\n",
    "        self.year = year\n",
    "        \n",
    "car1 = Car(\"Red\", \"Toyota\", \"Corolla\", 2023)\n",
    "car2 = Car(\"Blue\", \"Honda\", \"Civic\", 2021)\n",
    "\n",
    "\n"
   ]
  },
  {
   "cell_type": "code",
   "execution_count": 14,
   "id": "932ae68c-3f10-4064-b5e4-a20fa732d6a1",
   "metadata": {},
   "outputs": [],
   "source": [
    "car1 = Car(\"Red\", \"Toyota\", \"Corolla\", 2022)\n",
    "car2 = Car(\"Blue\", \"Honda\", \"Civic\", 2021)"
   ]
  },
  {
   "cell_type": "code",
   "execution_count": 15,
   "id": "7c0807e9-cd02-4623-8e38-a58618012f46",
   "metadata": {},
   "outputs": [
    {
     "name": "stdout",
     "output_type": "stream",
     "text": [
      "Red\n"
     ]
    }
   ],
   "source": [
    "print(car1.colour)"
   ]
  },
  {
   "cell_type": "code",
   "execution_count": 17,
   "id": "bb75519a-259c-42da-91a9-12cfaa5c1748",
   "metadata": {},
   "outputs": [
    {
     "name": "stdout",
     "output_type": "stream",
     "text": [
      "Blue\n"
     ]
    }
   ],
   "source": [
    "print(car2.colour)"
   ]
  },
  {
   "cell_type": "code",
   "execution_count": 16,
   "id": "162feb2a-2072-48cc-9537-ecb9b1baa80c",
   "metadata": {},
   "outputs": [],
   "source": [
    "# q2 Name the four pillars of OOPs."
   ]
  },
  {
   "cell_type": "code",
   "execution_count": 19,
   "id": "124b7be0-b068-4da7-a4b2-b7813b4b1161",
   "metadata": {},
   "outputs": [],
   "source": [
    "# four pillars of OOPS\n",
    "#Abstraction, Encapsulation, Inheritance & Polymorphism"
   ]
  },
  {
   "cell_type": "code",
   "execution_count": null,
   "id": "ca42857c-280e-4d4a-bc81-8d3c0d099afe",
   "metadata": {},
   "outputs": [],
   "source": [
    "Q3. Explain why the __init__() function is used. Give a suitable example."
   ]
  },
  {
   "cell_type": "code",
   "execution_count": null,
   "id": "20c8cd28-c201-4826-a0ba-586ae3949202",
   "metadata": {},
   "outputs": [],
   "source": [
    "# The __init__() function is a special method  that is called when an object is created. \n",
    "It is used to initialize the object's attributes. The __init__() function is always defined in the class definition,\n",
    "and it always takes self as its first argument."
   ]
  },
  {
   "cell_type": "code",
   "execution_count": 4,
   "id": "53015914-6736-41d3-8f2e-7e86fb7f3b00",
   "metadata": {},
   "outputs": [],
   "source": [
    "class pwskills1:\n",
    "    \n",
    "    def __init__(self ,phone_number , email_id , student_id):\n",
    "        self.phone_number = phone_number\n",
    "        self.email_id = email_id    \n",
    "        self.student_id = student_id\n",
    "        \n",
    "    def return_student_details(self):\n",
    "        return self.student_id ,self.phone_number ,self.email_id"
   ]
  },
  {
   "cell_type": "code",
   "execution_count": 5,
   "id": "9626bd13-0e33-4202-b696-7fa630158025",
   "metadata": {},
   "outputs": [],
   "source": [
    "rohan = pwskills1(122254949,'rohan@gmail.com', 101)"
   ]
  },
  {
   "cell_type": "code",
   "execution_count": 6,
   "id": "129e5149-9060-44e6-b64f-c763c89f96db",
   "metadata": {},
   "outputs": [
    {
     "data": {
      "text/plain": [
       "(101, 122254949, 'rohan@gmail.com')"
      ]
     },
     "execution_count": 6,
     "metadata": {},
     "output_type": "execute_result"
    }
   ],
   "source": [
    "rohan.return_student_details()"
   ]
  },
  {
   "cell_type": "code",
   "execution_count": null,
   "id": "294a4f57-2ab8-4ef8-9ec2-54fc4d12475b",
   "metadata": {},
   "outputs": [],
   "source": [
    "#Why self is used in OOPs?"
   ]
  },
  {
   "cell_type": "code",
   "execution_count": 7,
   "id": "0a319748-4c44-47fc-a2a9-7f77bc8d7e9f",
   "metadata": {},
   "outputs": [],
   "source": [
    "#The self keyword is used in OOPs to refer to the current instance of the class. It is used to access the object's attributes and methods. \n",
    "#Self is always the first argument in a method definition.\n",
    "# for Eg\n",
    "\n",
    "class pwskills1:\n",
    "    \n",
    "    def __init__(self ,phone_number , email_id , student_id):\n",
    "        self.phone_number = phone_number\n",
    "        self.email_id = email_id    \n",
    "        self.student_id = student_id\n",
    "        \n",
    "    def return_student_details(self):\n",
    "        return self.student_id ,self.phone_number ,self.email_id\n"
   ]
  },
  {
   "cell_type": "code",
   "execution_count": 8,
   "id": "914b5a43-7342-4ebe-8a9e-105cc30db23e",
   "metadata": {},
   "outputs": [],
   "source": [
    "# What is inheritance? Give an example for each type of inheritance."
   ]
  },
  {
   "cell_type": "code",
   "execution_count": 10,
   "id": "c1593ba3-a99a-4611-8215-04a4a9ef5838",
   "metadata": {},
   "outputs": [],
   "source": [
    "# Inheritance is a fundamental concept in object-oriented programming (OOP) that allows a class to inherit properties (attributes) and behaviors (methods)\n",
    " #from another class.\n",
    "#The class that is being inherited from is called the superclass or base class, and the class that inherits from it is called the subclass or derived class."
   ]
  },
  {
   "cell_type": "code",
   "execution_count": null,
   "id": "96a14f69-d71e-406f-b799-70ff80925bb1",
   "metadata": {},
   "outputs": [],
   "source": [
    "class test:\n",
    "    \n",
    "    def test_meth(self) : \n",
    "        return \"this is my parent class \""
   ]
  },
  {
   "cell_type": "code",
   "execution_count": null,
   "id": "7c0d746a-948a-4419-bbc2-dd3997425210",
   "metadata": {},
   "outputs": [],
   "source": [
    "class child_test(test):\n",
    "    pass\n"
   ]
  },
  {
   "cell_type": "code",
   "execution_count": null,
   "id": "1992b9bf-1f5b-4fc9-a495-0796d9a8403d",
   "metadata": {},
   "outputs": [],
   "source": [
    "child_test_obj = child_test()"
   ]
  },
  {
   "cell_type": "code",
   "execution_count": 8,
   "id": "34bc331c-63b5-41ec-b71f-b9da50c77161",
   "metadata": {},
   "outputs": [
    {
     "data": {
      "text/plain": [
       "'this is my parent class '"
      ]
     },
     "execution_count": 8,
     "metadata": {},
     "output_type": "execute_result"
    }
   ],
   "source": [
    "child_test_obj.test_meth()"
   ]
  },
  {
   "cell_type": "code",
   "execution_count": null,
   "id": "144456ac-4906-491b-a257-e42807da6c61",
   "metadata": {},
   "outputs": [],
   "source": []
  }
 ],
 "metadata": {
  "kernelspec": {
   "display_name": "Python 3 (ipykernel)",
   "language": "python",
   "name": "python3"
  },
  "language_info": {
   "codemirror_mode": {
    "name": "ipython",
    "version": 3
   },
   "file_extension": ".py",
   "mimetype": "text/x-python",
   "name": "python",
   "nbconvert_exporter": "python",
   "pygments_lexer": "ipython3",
   "version": "3.10.8"
  }
 },
 "nbformat": 4,
 "nbformat_minor": 5
}
